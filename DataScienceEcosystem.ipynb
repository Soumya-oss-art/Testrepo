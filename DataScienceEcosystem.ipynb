{
 "cells": [
  {
   "cell_type": "markdown",
   "id": "e26ea1ee-f6eb-4407-a758-ef33235207be",
   "metadata": {},
   "source": [
    "# Data Science Tools and Ecosystem\n"
   ]
  },
  {
   "cell_type": "markdown",
   "id": "82a917b8-0da3-4d0e-bf36-86f7a1513c0c",
   "metadata": {},
   "source": [
    "In this notebook, Data Science Tools and Ecosystem are summerized"
   ]
  },
  {
   "cell_type": "markdown",
   "id": "58a9b206-ae9c-4290-9b4b-81b8c1ae0569",
   "metadata": {},
   "source": [
    "Some of the popular languages that Data Scientists use are:\n",
    "Python, R, SQL etc."
   ]
  },
  {
   "cell_type": "markdown",
   "id": "54860fa6-a25b-433b-a95f-2ce06627be74",
   "metadata": {},
   "source": [
    "Some of the commonly used libraries used by Data Scientists include:\n",
    "NumPy, SciPy, Pandas, Plotly etc."
   ]
  },
  {
   "cell_type": "markdown",
   "id": "e8f4a14c-d88c-4574-9afc-580927ee3252",
   "metadata": {},
   "source": [
    "# | Data Science Tools |\n",
    "  \n",
    "  | Jupyter Notebook   |\n",
    "  \n",
    "  | RStudio            |\n",
    "  \n",
    "  | Git/GitHub         |"
   ]
  },
  {
   "cell_type": "markdown",
   "id": "a2e5f612-bc38-4fdf-9586-48e2d7e5e77b",
   "metadata": {},
   "source": [
    "### Below are a few examples of evaluating arithmetic expressions in Python"
   ]
  },
  {
   "cell_type": "code",
   "execution_count": 1,
   "id": "94146e2f-7c1e-4332-a353-6afd60609ed8",
   "metadata": {},
   "outputs": [
    {
     "name": "stdout",
     "output_type": "stream",
     "text": [
      "17\n"
     ]
    }
   ],
   "source": [
    "# This is a simple arithmetic expression to multiply then add integers\n",
    "result=(3*4)+5\n",
    "print(result)"
   ]
  },
  {
   "cell_type": "code",
   "execution_count": 5,
   "id": "f142c426-3ffc-4cf4-b57f-09d19e2d4231",
   "metadata": {},
   "outputs": [
    {
     "name": "stdout",
     "output_type": "stream",
     "text": [
      "Time is 3 hrs 20 min\n"
     ]
    }
   ],
   "source": [
    "# This will convert 200 minutes to hours by dividing 60.\n",
    "minutes= 200\n",
    "hours=int((200/60))\n",
    "rem_mintues=(200%60)\n",
    "print(f\"Time is {hours} hrs {rem_mintues} min\")"
   ]
  },
  {
   "cell_type": "markdown",
   "id": "82b725ed-5819-4788-844c-73b0008c5295",
   "metadata": {},
   "source": [
    " **Some of the key takeaways from the course: Objectives:**\n",
    "\n",
    "+ Python\n",
    "+ R\n",
    "+ SQL\n",
    "+ Julia\n",
    "+ Java\n",
    "+ Scala"
   ]
  },
  {
   "cell_type": "markdown",
   "id": "85b04ff3-70e1-442d-82f4-826680eb1de7",
   "metadata": {},
   "source": [
    "## Author\n",
    "Soumyakanti Dey"
   ]
  },
  {
   "cell_type": "code",
   "execution_count": null,
   "id": "3d46d516-f709-4aaa-9627-c76e5eba5af1",
   "metadata": {},
   "outputs": [],
   "source": []
  }
 ],
 "metadata": {
  "kernelspec": {
   "display_name": "Python 3 (ipykernel)",
   "language": "python",
   "name": "python3"
  },
  "language_info": {
   "codemirror_mode": {
    "name": "ipython",
    "version": 3
   },
   "file_extension": ".py",
   "mimetype": "text/x-python",
   "name": "python",
   "nbconvert_exporter": "python",
   "pygments_lexer": "ipython3",
   "version": "3.12.8"
  }
 },
 "nbformat": 4,
 "nbformat_minor": 5
}
